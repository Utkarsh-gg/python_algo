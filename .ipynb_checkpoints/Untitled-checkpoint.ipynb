{
 "cells": [
  {
   "cell_type": "code",
   "execution_count": 1,
   "id": "a529c935",
   "metadata": {},
   "outputs": [],
   "source": [
    "#MAZE SOLVER\n",
    "def isAllowed(pos,matrix):\n",
    "    if pos[0]<len(matrix) and pos[1]<len(matrix[0]) and pos[0]>=0 and pos[1]>=0:\n",
    "        if matrix[pos[0]][pos[1]]==0:\n",
    "            return True\n",
    "    return False\n",
    "\n",
    "def Solution(matrix,moves,dest,sol,pos):\n",
    "    if pos == dest:\n",
    "        return True\n",
    "    for move in moves:\n",
    "        pos[0] = pos[0]+move[0]\n",
    "        pos[1] = pos[1]+move[1]\n",
    "        if isAllowed(pos,matrix):\n",
    "            sol[pos[0]][pos[1]]=1\n",
    "            flag = Solution(matrix,moves,dest,sol,pos)\n",
    "            if flag:\n",
    "                return True\n",
    "    return False\n",
    "\n",
    "def print_solution(sol):\n",
    "    for i in sol:\n",
    "        for j in i:\n",
    "            print(j,end='')\n",
    "        print()\n",
    "\n",
    "def maze_solver(matrix,dest):\n",
    "    sol = [[0 for i in range(len(matrix[0]))] for j in range(len(matrix))]\n",
    "    moves = [(0,1),(1,0)]\n",
    "    sol[0][0]=1\n",
    "    flag = Solution(matrix,moves,dest,sol,(0,0))\n",
    "    if flag:\n",
    "        print_solution(sol)\n",
    "    else:\n",
    "        print('No possible solution')\n",
    "        \n"
   ]
  },
  {
   "cell_type": "code",
   "execution_count": null,
   "id": "e96d7b42",
   "metadata": {},
   "outputs": [],
   "source": [
    "matrix = [\n",
    "    [1,0,0,0],\n",
    "    [1,1,0,0],\n",
    "    [0,1,1,0],\n",
    "    [1,0,1,1]\n",
    "         ]\n",
    "dest = (3,3)"
   ]
  }
 ],
 "metadata": {
  "kernelspec": {
   "display_name": "Python 3 (ipykernel)",
   "language": "python",
   "name": "python3"
  },
  "language_info": {
   "codemirror_mode": {
    "name": "ipython",
    "version": 3
   },
   "file_extension": ".py",
   "mimetype": "text/x-python",
   "name": "python",
   "nbconvert_exporter": "python",
   "pygments_lexer": "ipython3",
   "version": "3.9.7"
  }
 },
 "nbformat": 4,
 "nbformat_minor": 5
}
