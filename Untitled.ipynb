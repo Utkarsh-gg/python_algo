{
 "cells": [
  {
   "cell_type": "code",
   "execution_count": 8,
   "id": "4ebd9220",
   "metadata": {},
   "outputs": [],
   "source": [
    "#MAZE SOLVER\n",
    "def isAllowed(pos,matrix):\n",
    "    if pos[0]<len(matrix) and pos[1]<len(matrix[0]) and pos[0]>=0 and pos[1]>=0:\n",
    "        if matrix[pos[0]][pos[1]]==1:\n",
    "            return True\n",
    "    return False\n",
    "\n",
    "def Solution(matrix,moves,dest,sol,pos):\n",
    "    if pos == dest:\n",
    "        sol[dest[0]][dest[1]]=1\n",
    "        return True\n",
    "    for move in moves:\n",
    "        x = pos[0]+move[0]\n",
    "        y = pos[1]+move[1]\n",
    "        if isAllowed(pos,matrix):\n",
    "            sol[pos[0]][pos[1]]=1\n",
    "            flag = Solution(matrix,moves,dest,sol,(x,y))\n",
    "            if flag:\n",
    "                return True\n",
    "    return False\n",
    "\n",
    "def print_solution(sol):\n",
    "    for i in sol:\n",
    "        for j in i:\n",
    "            print(j,end='')\n",
    "        print()\n",
    "\n",
    "def maze_solver(matrix,dest):\n",
    "    sol = [[0 for i in range(len(matrix[0]))] for j in range(len(matrix))]\n",
    "    moves = [(0,1),(1,0)]\n",
    "    sol[0][0]=1\n",
    "    flag = Solution(matrix,moves,dest,sol,(0,0))\n",
    "    if flag:\n",
    "        print_solution(sol)\n",
    "    else:\n",
    "        print('No possible solution')"
   ]
  },
  {
   "cell_type": "code",
   "execution_count": 11,
   "id": "398ccab4",
   "metadata": {},
   "outputs": [
    {
     "name": "stdout",
     "output_type": "stream",
     "text": [
      "1000\n",
      "1100\n",
      "0100\n",
      "0111\n"
     ]
    }
   ],
   "source": [
    "matrix = [\n",
    "    [1,0,0,0],\n",
    "    [1,1,0,1],\n",
    "    [0,1,0,0],\n",
    "    [1,1,1,1]\n",
    "         ]\n",
    "dest = (3,3)\n",
    "maze_solver(matrix,dest)"
   ]
  },
  {
   "cell_type": "code",
   "execution_count": 56,
   "id": "b240cab7",
   "metadata": {},
   "outputs": [],
   "source": [
    "#N QUEENS\n",
    "def isAllowed(row,col,sol,N):\n",
    "    for curr_row in range(N):\n",
    "        if sol[curr_row][col]==1:\n",
    "            return False\n",
    "    for i,j in zip(range(row,-1,-1),range(col,N,+1)):\n",
    "        if sol[i][j]==1:\n",
    "            return False\n",
    "    for i,j in zip(range(row,-1,-1),range(col,-1,-1)):\n",
    "        if sol[i][j]==1:\n",
    "            return False\n",
    "    return True\n",
    "\n",
    "def Solution(sol,N,row):\n",
    "    if row == N:\n",
    "        return True\n",
    "    for col in range(N):\n",
    "        if isAllowed(row,col,sol,N):\n",
    "            sol[row][col]=1\n",
    "#             print_solution(sol)\n",
    "            flag = Solution(sol,N,row+1)\n",
    "            if flag:\n",
    "                return True\n",
    "            sol[row][col]=0\n",
    "    return False\n",
    "\n",
    "def print_solution(sol):\n",
    "    for i in sol:\n",
    "        for j in i:\n",
    "            print(j,end=' ')\n",
    "        print()\n",
    "    print()\n",
    "def n_queens(N):\n",
    "    sol = [[0 for i in range(N)] for j in range(N)]\n",
    "    col = 0\n",
    "    flag = Solution(sol,N,0)\n",
    "    if flag:\n",
    "        print_solution(sol)\n",
    "    else:\n",
    "        print('No possible solution')"
   ]
  },
  {
   "cell_type": "code",
   "execution_count": 58,
   "id": "f6f0ea13",
   "metadata": {},
   "outputs": [
    {
     "name": "stdout",
     "output_type": "stream",
     "text": [
      "1 0 0 0 0 0 0 0 0 \n",
      "0 0 1 0 0 0 0 0 0 \n",
      "0 0 0 0 0 1 0 0 0 \n",
      "0 0 0 0 0 0 0 1 0 \n",
      "0 1 0 0 0 0 0 0 0 \n",
      "0 0 0 1 0 0 0 0 0 \n",
      "0 0 0 0 0 0 0 0 1 \n",
      "0 0 0 0 0 0 1 0 0 \n",
      "0 0 0 0 1 0 0 0 0 \n",
      "\n"
     ]
    }
   ],
   "source": [
    "n_queens(9)"
   ]
  },
  {
   "cell_type": "code",
   "execution_count": null,
   "id": "b4ca5991",
   "metadata": {},
   "outputs": [],
   "source": []
  }
 ],
 "metadata": {
  "kernelspec": {
   "display_name": "Python 3 (ipykernel)",
   "language": "python",
   "name": "python3"
  },
  "language_info": {
   "codemirror_mode": {
    "name": "ipython",
    "version": 3
   },
   "file_extension": ".py",
   "mimetype": "text/x-python",
   "name": "python",
   "nbconvert_exporter": "python",
   "pygments_lexer": "ipython3",
   "version": "3.9.7"
  }
 },
 "nbformat": 4,
 "nbformat_minor": 5
}
