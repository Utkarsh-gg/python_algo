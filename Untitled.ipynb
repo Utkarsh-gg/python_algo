{
 "cells": [
  {
   "cell_type": "code",
   "execution_count": 8,
   "source": [
    "#MAZE SOLVER\r\n",
    "#k\r\n",
    "def isAllowed(pos,matrix):\r\n",
    "    if pos[0]<len(matrix) and pos[1]<len(matrix[0]) and pos[0]>=0 and pos[1]>=0:\r\n",
    "        if matrix[pos[0]][pos[1]]==1:\r\n",
    "            return True\r\n",
    "    return False\r\n",
    "\r\n",
    "def Solution(matrix,moves,dest,sol,pos):\r\n",
    "    if pos == dest:\r\n",
    "        sol[dest[0]][dest[1]]=1\r\n",
    "        return True\r\n",
    "    for move in moves:\r\n",
    "        x = pos[0]+move[0]\r\n",
    "        y = pos[1]+move[1]\r\n",
    "        if isAllowed(pos,matrix):\r\n",
    "            sol[pos[0]][pos[1]]=1\r\n",
    "            flag = Solution(matrix,moves,dest,sol,(x,y))\r\n",
    "            if flag:\r\n",
    "                return True\r\n",
    "    return False\r\n",
    "\r\n",
    "def print_solution(sol):\r\n",
    "    for i in sol:\r\n",
    "        for j in i:\r\n",
    "            print(j,end='')\r\n",
    "        print()\r\n",
    "\r\n",
    "def maze_solver(matrix,dest):\r\n",
    "    sol = [[0 for i in range(len(matrix[0]))] for j in range(len(matrix))]\r\n",
    "    moves = [(0,1),(1,0)]\r\n",
    "    sol[0][0]=1\r\n",
    "    flag = Solution(matrix,moves,dest,sol,(0,0))\r\n",
    "    if flag:\r\n",
    "        print_solution(sol)\r\n",
    "    else:\r\n",
    "        print('No possible solution')"
   ],
   "outputs": [],
   "metadata": {}
  },
  {
   "cell_type": "code",
   "execution_count": 11,
   "source": [
    "matrix = [\r\n",
    "    [1,0,0,0],\r\n",
    "    [1,1,0,1],\r\n",
    "    [0,1,0,0],\r\n",
    "    [1,1,1,1]\r\n",
    "         ]\r\n",
    "dest = (3,3)\r\n",
    "maze_solver(matrix,dest)"
   ],
   "outputs": [
    {
     "output_type": "stream",
     "name": "stdout",
     "text": [
      "1000\n",
      "1100\n",
      "0100\n",
      "0111\n"
     ]
    }
   ],
   "metadata": {}
  },
  {
   "cell_type": "code",
   "execution_count": 56,
   "source": [
    "#N QUEENS\r\n",
    "def isAllowed(row,col,sol,N):\r\n",
    "    for curr_row in range(N):\r\n",
    "        if sol[curr_row][col]==1:\r\n",
    "            return False\r\n",
    "    for i,j in zip(range(row,-1,-1),range(col,N,+1)):\r\n",
    "        if sol[i][j]==1:\r\n",
    "            return False\r\n",
    "    for i,j in zip(range(row,-1,-1),range(col,-1,-1)):\r\n",
    "        if sol[i][j]==1:\r\n",
    "            return False\r\n",
    "    return True\r\n",
    "\r\n",
    "def Solution(sol,N,row):\r\n",
    "    if row == N:\r\n",
    "        return True\r\n",
    "    for col in range(N):\r\n",
    "        if isAllowed(row,col,sol,N):\r\n",
    "            sol[row][col]=1\r\n",
    "#             print_solution(sol)\r\n",
    "            flag = Solution(sol,N,row+1)\r\n",
    "            if flag:\r\n",
    "                return True\r\n",
    "            sol[row][col]=0\r\n",
    "    return False\r\n",
    "\r\n",
    "def print_solution(sol):\r\n",
    "    for i in sol:\r\n",
    "        for j in i:\r\n",
    "            print(j,end=' ')\r\n",
    "        print()\r\n",
    "    print()\r\n",
    "def n_queens(N):\r\n",
    "    sol = [[0 for i in range(N)] for j in range(N)]\r\n",
    "    col = 0\r\n",
    "    flag = Solution(sol,N,0)\r\n",
    "    if flag:\r\n",
    "        print_solution(sol)\r\n",
    "    else:\r\n",
    "        print('No possible solution')"
   ],
   "outputs": [],
   "metadata": {}
  },
  {
   "cell_type": "code",
   "execution_count": 58,
   "source": [
    "n_queens(9)"
   ],
   "outputs": [
    {
     "output_type": "stream",
     "name": "stdout",
     "text": [
      "1 0 0 0 0 0 0 0 0 \n",
      "0 0 1 0 0 0 0 0 0 \n",
      "0 0 0 0 0 1 0 0 0 \n",
      "0 0 0 0 0 0 0 1 0 \n",
      "0 1 0 0 0 0 0 0 0 \n",
      "0 0 0 1 0 0 0 0 0 \n",
      "0 0 0 0 0 0 0 0 1 \n",
      "0 0 0 0 0 0 1 0 0 \n",
      "0 0 0 0 1 0 0 0 0 \n",
      "\n"
     ]
    }
   ],
   "metadata": {}
  },
  {
   "cell_type": "code",
   "execution_count": 94,
   "source": [
    "def Solution(array,dest,length,temp_sum,sol,index):\r\n",
    "    if temp_sum == dest:\r\n",
    "        return True\r\n",
    "    \r\n",
    "    for i in range(index,length,1):\r\n",
    "#         print(array[i],end='->')\r\n",
    "#         print_solution(array,sol)\r\n",
    "        if temp_sum + array[index]<=dest:\r\n",
    "            sol[i]=1\r\n",
    "            index = i\r\n",
    "#             print(sol)\r\n",
    "            flag = Solution(array,dest,length,temp_sum+array[index],sol,index+1)\r\n",
    "            if flag:\r\n",
    "                return True\r\n",
    "            sol[i]=0\r\n",
    "    return False\r\n",
    "\r\n",
    "def print_solution(array,sol):\r\n",
    "    for i in range(len(array)):\r\n",
    "        if sol[i]==1:\r\n",
    "            print(array[i],end=' ')\r\n",
    "    print()\r\n",
    "\r\n",
    "def sum_of_subset(array,dest):\r\n",
    "    length = len(array)\r\n",
    "    temp_sum=0\r\n",
    "    sol = [0 for i in range(length)]\r\n",
    "    flag = Solution(array,dest,length,temp_sum,sol,index=0)\r\n",
    "    if flag:\r\n",
    "        print_solution(array,sol)\r\n",
    "    else:\r\n",
    "        print(\"No solution found\")"
   ],
   "outputs": [],
   "metadata": {}
  },
  {
   "cell_type": "code",
   "execution_count": 95,
   "source": [
    "array = [2,2,4,3,5]\n",
    "dest = 10\n",
    "sum_of_subset(array,dest)"
   ],
   "outputs": [
    {
     "output_type": "stream",
     "name": "stdout",
     "text": [
      "2 3 5 \n"
     ]
    }
   ],
   "metadata": {}
  },
  {
   "cell_type": "code",
   "execution_count": null,
   "source": [],
   "outputs": [],
   "metadata": {}
  }
 ],
 "metadata": {
  "kernelspec": {
   "display_name": "Python 3 (ipykernel)",
   "language": "python",
   "name": "python3"
  },
  "language_info": {
   "codemirror_mode": {
    "name": "ipython",
    "version": 3
   },
   "file_extension": ".py",
   "mimetype": "text/x-python",
   "name": "python",
   "nbconvert_exporter": "python",
   "pygments_lexer": "ipython3",
   "version": "3.9.7"
  }
 },
 "nbformat": 4,
 "nbformat_minor": 5
}